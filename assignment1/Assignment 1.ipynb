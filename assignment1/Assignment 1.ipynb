{
 "cells": [
  {
   "cell_type": "code",
   "execution_count": null,
   "metadata": {},
   "outputs": [
    {
     "name": "stdout",
     "output_type": "stream",
     "text": [
      "Please enter your query (type 'quit' or 'exit' to end):ho\n",
      "You have entered ho 1 times\n",
      "Please enter your query (type 'quit' or 'exit' to end):ho\n",
      "You have entered ho 2 times\n",
      "Please enter your query (type 'quit' or 'exit' to end):ho\n",
      "You have entered ho 3 times\n"
     ]
    }
   ],
   "source": [
    "from __future__ import unicode_literals\n",
    "\n",
    "import redis\n",
    "\n",
    "\n",
    "# fill in the following.\n",
    "HOST = \"redis-11010.c1.asia-northeast1-1.gce.cloud.redislabs.com\"\n",
    "PWD = \"vSfJa1YWXyp5rEoBzIpgiHiH9BAlu1ph\"\n",
    "PORT = \"11010\" \n",
    "\n",
    "redis1 = redis.Redis(host = HOST, password = PWD, port = PORT)\n",
    "\n",
    "while True:\n",
    "    msg = input(\"Please enter your query (type 'quit' or 'exit' to end):\").strip()\n",
    "    if msg == 'quit' or msg == 'exit':\n",
    "        break\n",
    "    if msg == '':\n",
    "        continue\n",
    "    print(\"You have entered \" + msg , end=' ') \n",
    "\n",
    "\n",
    "    print(redis1.incr(msg) , \"times\")\n",
    "\n",
    "\n",
    " "
   ]
  },
  {
   "cell_type": "code",
   "execution_count": null,
   "metadata": {},
   "outputs": [],
   "source": []
  }
 ],
 "metadata": {
  "kernelspec": {
   "display_name": "Python 3",
   "language": "python",
   "name": "python3"
  },
  "language_info": {
   "codemirror_mode": {
    "name": "ipython",
    "version": 3
   },
   "file_extension": ".py",
   "mimetype": "text/x-python",
   "name": "python",
   "nbconvert_exporter": "python",
   "pygments_lexer": "ipython3",
   "version": "3.7.4"
  }
 },
 "nbformat": 4,
 "nbformat_minor": 2
}
