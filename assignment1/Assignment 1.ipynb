{
 "cells": [
  {
   "cell_type": "code",
   "execution_count": null,
   "metadata": {},
   "outputs": [],
   "source": [
    "from __future__ import unicode_literals\n",
    "\n",
    "import redis\n",
    "\n",
    "\n",
    "# fill in the following.\n",
    "HOST = \"redis-11363.c1.asia-northeast1-1.gce.cloud.redislabs.com\"\n",
    "PWD = \"1nOA0St0I7p9pQqu8HkQ18XqDfnoPeoL\"\n",
    "PORT = \"11363\" \n",
    "\n",
    "redis1 = redis.Redis(host = HOST, password = PWD, port = PORT)\n",
    "\n",
    "while True:\n",
    "    msg = input(\"Please enter your query (type 'quit' or 'exit' to end):\").strip()\n",
    "    if msg == 'quit' or msg == 'exit':\n",
    "        break\n",
    "    if msg == '':\n",
    "        continue\n",
    "    print(\"You have entered \" + msg , end=' ') \n",
    "\n",
    "\n",
    "    print(redis1.incr(msg) , \"times\")\n",
    "\n",
    "\n",
    " "
   ]
  },
  {
   "cell_type": "code",
   "execution_count": null,
   "metadata": {},
   "outputs": [],
   "source": [
    "redis1.info"
   ]
  },
  {
   "cell_type": "code",
   "execution_count": null,
   "metadata": {},
   "outputs": [],
   "source": []
  }
 ],
 "metadata": {
  "kernelspec": {
   "display_name": "Python 3",
   "language": "python",
   "name": "python3"
  },
  "language_info": {
   "codemirror_mode": {
    "name": "ipython",
    "version": 3
   },
   "file_extension": ".py",
   "mimetype": "text/x-python",
   "name": "python",
   "nbconvert_exporter": "python",
   "pygments_lexer": "ipython3",
   "version": "3.7.4"
  }
 },
 "nbformat": 4,
 "nbformat_minor": 2
}
