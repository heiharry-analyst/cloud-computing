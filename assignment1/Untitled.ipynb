{
 "cells": [
  {
   "cell_type": "code",
   "execution_count": 1,
   "metadata": {},
   "outputs": [],
   "source": [
    "from __future__ import unicode_literals\n",
    "import redis\n",
    "HOST = \"redis-11363.c1.asia-northeast1-1.gce.cloud.redislabs.com\"\n",
    "PWD = \"1nOA0St0I7p9pQqu8HkQ18XqDfnoPeoL\"\n",
    "PORT = \"11363\" \n",
    "\n",
    "redis1 = redis.Redis(host = HOST, password = PWD, port = PORT)\n"
   ]
  },
  {
   "cell_type": "code",
   "execution_count": 2,
   "metadata": {},
   "outputs": [],
   "source": [
    "import redis"
   ]
  },
  {
   "cell_type": "code",
   "execution_count": 3,
   "metadata": {},
   "outputs": [],
   "source": [
    "HOST = \"redis-11363.c1.asia-northeast1-1.gce.cloud.redislabs.com\"\n",
    "PWD = \"1nOA0St0I7p9pQqu8HkQ18XqDfnoPeoL\"\n",
    "PORT = \"11363\" \n",
    "\n",
    "redis1 = redis.Redis(host = HOST, password = PWD, port = PORT)"
   ]
  },
  {
   "cell_type": "code",
   "execution_count": null,
   "metadata": {},
   "outputs": [
    {
     "name": "stdout",
     "output_type": "stream",
     "text": [
      "Please enter your query (type 'quit' or 'exit' to end):hello\n",
      "You have entered hello for X times\n",
      "Please enter your query (type 'quit' or 'exit' to end):hi\n",
      "You have entered hi for X times\n"
     ]
    }
   ],
   "source": [
    "while True:\n",
    "    msg = input(\"Please enter your query (type 'quit' or 'exit' to end):\").strip()\n",
    "    if msg == 'quit' or msg == 'exit':\n",
    "        break\n",
    "    if msg == '':\n",
    "        continue\n",
    "    print(\"You have entered \" + msg, end=' ') \n",
    "\n",
    "   \n",
    "    # Add your code here\n",
    "\n",
    "\n",
    "\n",
    "    print('for X times')"
   ]
  },
  {
   "cell_type": "code",
   "execution_count": null,
   "metadata": {},
   "outputs": [],
   "source": [
    "print(redis1.get())"
   ]
  },
  {
   "cell_type": "code",
   "execution_count": null,
   "metadata": {},
   "outputs": [],
   "source": []
  },
  {
   "cell_type": "code",
   "execution_count": null,
   "metadata": {},
   "outputs": [],
   "source": []
  }
 ],
 "metadata": {
  "kernelspec": {
   "display_name": "Python 3",
   "language": "python",
   "name": "python3"
  },
  "language_info": {
   "codemirror_mode": {
    "name": "ipython",
    "version": 3
   },
   "file_extension": ".py",
   "mimetype": "text/x-python",
   "name": "python",
   "nbconvert_exporter": "python",
   "pygments_lexer": "ipython3",
   "version": "3.7.4"
  }
 },
 "nbformat": 4,
 "nbformat_minor": 2
}
